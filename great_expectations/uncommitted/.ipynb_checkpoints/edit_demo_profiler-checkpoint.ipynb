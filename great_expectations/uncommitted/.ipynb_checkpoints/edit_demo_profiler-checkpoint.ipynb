{
 "cells": [
  {
   "cell_type": "markdown",
   "id": "ec28aa12",
   "metadata": {},
   "source": [
    "# Initialize a new Expectation Suite by profiling a batch of your data.\n",
    "This process helps you avoid writing lots of boilerplate when authoring suites by allowing you to select columns and other factors that you care about and letting a profiler write some candidate expectations for you to adjust.\n",
    "\n",
    "**Expectation Suite Name**: `demo_profiler`\n"
   ]
  },
  {
   "cell_type": "code",
   "execution_count": null,
   "id": "c748ba95",
   "metadata": {},
   "outputs": [],
   "source": [
    "import datetime\n",
    "\n",
    "import pandas as pd\n",
    "\n",
    "import great_expectations as ge\n",
    "import great_expectations.jupyter_ux\n",
    "from great_expectations.profile.user_configurable_profiler import (\n",
    "    UserConfigurableProfiler,\n",
    ")\n",
    "from great_expectations.core.batch import BatchRequest\n",
    "from great_expectations.checkpoint import SimpleCheckpoint\n",
    "from great_expectations.exceptions import DataContextError\n",
    "\n",
    "context = ge.data_context.DataContext()\n",
    "\n",
    "batch_request = {'datasource_name': 'demo_datasource', \n",
    "                 'data_connector_name': 'default_inferred_data_connector_name', \n",
    "                 'data_asset_name': '2020_22_liquor_month.parquet', \n",
    "                 'limit': 1000}\n",
    "\n",
    "expectation_suite_name = \"demo_profiler\"\n",
    "\n",
    "validator = context.get_validator(\n",
    "    batch_request=BatchRequest(**batch_request),\n",
    "    expectation_suite_name=expectation_suite_name\n",
    ")\n",
    "column_names = [f'\"{column_name}\"' for column_name in validator.columns()]\n",
    "print(f\"Columns: {', '.join(column_names)}.\")\n",
    "validator.head(n_rows=5, fetch_all=False)"
   ]
  },
  {
   "cell_type": "markdown",
   "id": "f6a7e3f5",
   "metadata": {},
   "source": [
    "# Select columns\n",
    "\n",
    "Select the columns on which you would like to set expectations and those which you would like to ignore.\n",
    "\n",
    "Great Expectations will choose which expectations might make sense for a column based on the **data type** and **cardinality** of the data in each selected column.\n",
    "\n",
    "Simply comment out columns that are important and should be included. You can select multiple lines and use a Jupyter\n",
    "keyboard shortcut to toggle each line: **Linux/Windows**:\n",
    "`Ctrl-/`, **macOS**: `Cmd-/`\n",
    "        "
   ]
  },
  {
   "cell_type": "code",
   "execution_count": null,
   "id": "ea187f0f",
   "metadata": {},
   "outputs": [],
   "source": [
    "exclude_column_names = [\n",
    "    \"Invoice/Item Number\",\n",
    "    \"Store Number\",\n",
    "    \"Store Name\",\n",
    "    \"Address\",\n",
    "    \"City\",\n",
    "    \"Store Location\",\n",
    "    \"County Number\",\n",
    "    \"County\",\n",
    "    \"Category\",\n",
    "    \"Category Name\",\n",
    "    \"Vendor Number\",\n",
    "    \"Vendor Name\",\n",
    "    \"Item Number\",\n",
    "    \"Item Description\",\n",
    "    \"Pack\",\n",
    "    \"Bottle Volume (ml)\",\n",
    "    \"State Bottle Cost\",\n",
    "    \"State Bottle Retail\",\n",
    "    \"Bottles Sold\",\n",
    "    \"Sale (Dollars)\",\n",
    "    \"Volume Sold (Liters)\",\n",
    "    \"Volume Sold (Gallons)\",\n",
    "    \"partition_col\",\n",
    "]"
   ]
  },
  {
   "cell_type": "markdown",
   "id": "99926ac3",
   "metadata": {},
   "source": [
    "# Run the UserConfigurableProfiler\n",
    "\n",
    "The suites generated here are **not meant to be production suites** -- they are **a starting point to build upon**.\n",
    "\n",
    "**To get to a production-grade suite, you will definitely want to [edit this\n",
    "suite](https://docs.greatexpectations.io/en/latest/guides/how_to_guides/creating_and_editing_expectations/how_to_edit_an_expectation_suite_using_a_disposable_notebook.html?utm_source=notebook&utm_medium=profile_based_expectations)\n",
    "after this initial step gets you started on the path towards what you want.**\n",
    "\n",
    "This is highly configurable depending on your goals.\n",
    "You can ignore columns or exclude certain expectations, specify a threshold for creating value set expectations, or even specify semantic types for a given column.\n",
    "You can find more information about [how to configure this profiler, including a list of the expectations that it uses, here.](https://docs.greatexpectations.io/en/latest/guides/how_to_guides/creating_and_editing_expectations/how_to_create_an_expectation_suite_with_the_user_configurable_profiler.html)\n",
    "\n"
   ]
  },
  {
   "cell_type": "code",
   "execution_count": null,
   "id": "feafeb07",
   "metadata": {},
   "outputs": [],
   "source": [
    "profiler = UserConfigurableProfiler(\n",
    "    profile_dataset=validator,\n",
    "    excluded_expectations=None,\n",
    "    ignored_columns=exclude_column_names,\n",
    "    not_null_only=False,\n",
    "    primary_or_compound_key=None,\n",
    "    semantic_types_dict=None,\n",
    "    table_expectations_only=False,\n",
    "    value_set_threshold=\"MANY\",\n",
    ")\n",
    "suite = profiler.build_suite()\n",
    "validator.expectation_suite = suite"
   ]
  },
  {
   "cell_type": "markdown",
   "id": "8d141421",
   "metadata": {},
   "source": [
    "# Save & review your new Expectation Suite\n",
    "\n",
    "Let's save the draft expectation suite as a JSON file in the\n",
    "`great_expectations/expectations` directory of your project and rebuild the Data\n",
    " Docs site to make it easy to review your new suite."
   ]
  },
  {
   "cell_type": "code",
   "execution_count": null,
   "id": "42a672e9",
   "metadata": {},
   "outputs": [],
   "source": [
    "print(validator.get_expectation_suite(discard_failed_expectations=False))\n",
    "validator.save_expectation_suite(discard_failed_expectations=False)\n",
    "\n",
    "checkpoint_config = {\n",
    "    \"class_name\": \"SimpleCheckpoint\",\n",
    "    \"validations\": [\n",
    "        {\n",
    "            \"batch_request\": batch_request,\n",
    "            \"expectation_suite_name\": expectation_suite_name\n",
    "        }\n",
    "    ]\n",
    "}\n",
    "checkpoint = SimpleCheckpoint(\n",
    "    f\"{validator.active_batch_definition.data_asset_name}_{expectation_suite_name}\",\n",
    "    context,\n",
    "    **checkpoint_config\n",
    ")\n",
    "checkpoint_result = checkpoint.run()\n",
    "\n",
    "context.build_data_docs()\n",
    "\n",
    "validation_result_identifier = checkpoint_result.list_validation_result_identifiers()[0]\n",
    "context.open_data_docs(resource_identifier=validation_result_identifier)"
   ]
  },
  {
   "cell_type": "markdown",
   "id": "b7d11551",
   "metadata": {},
   "source": [
    "## Next steps\n",
    "After you review this initial Expectation Suite in Data Docs you\n",
    "should edit this suite to make finer grained adjustments to the expectations.\n",
    "This can be done by running `great_expectations suite edit demo_profiler`."
   ]
  }
 ],
 "metadata": {
  "kernelspec": {
   "display_name": "Python 3 (ipykernel)",
   "language": "python",
   "name": "python3"
  },
  "language_info": {
   "codemirror_mode": {
    "name": "ipython",
    "version": 3
   },
   "file_extension": ".py",
   "mimetype": "text/x-python",
   "name": "python",
   "nbconvert_exporter": "python",
   "pygments_lexer": "ipython3",
   "version": "3.10.4"
  }
 },
 "nbformat": 4,
 "nbformat_minor": 5
}
