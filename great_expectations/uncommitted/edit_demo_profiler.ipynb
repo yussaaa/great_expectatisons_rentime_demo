{
 "cells": [
  {
   "cell_type": "markdown",
   "id": "ec28aa12",
   "metadata": {},
   "source": [
    "# Initialize a new Expectation Suite by profiling a batch of your data.\n",
    "This process helps you avoid writing lots of boilerplate when authoring suites by allowing you to select columns and other factors that you care about and letting a profiler write some candidate expectations for you to adjust.\n",
    "\n",
    "**Expectation Suite Name**: `demo_profiler`\n"
   ]
  },
  {
   "cell_type": "code",
   "execution_count": 2,
   "id": "86327c2e",
   "metadata": {},
   "outputs": [
    {
     "name": "stdout",
     "output_type": "stream",
     "text": [
      "2022-08-29T13:14:14-0400 - INFO - Great Expectations logging enabled at 20 level by JupyterUX module.\n"
     ]
    }
   ],
   "source": [
    "import datetime\n",
    "\n",
    "import pandas as pd\n",
    "\n",
    "import great_expectations as ge\n",
    "import great_expectations.jupyter_ux\n",
    "from great_expectations.profile.user_configurable_profiler import (\n",
    "    UserConfigurableProfiler,\n",
    ")\n",
    "from great_expectations.core.batch import BatchRequest\n",
    "from great_expectations.checkpoint import SimpleCheckpoint\n",
    "from great_expectations.exceptions import DataContextError\n",
    "\n",
    "context = ge.data_context.DataContext()"
   ]
  },
  {
   "cell_type": "markdown",
   "id": "024ce1ac",
   "metadata": {},
   "source": [
    "# Setup for the Runtime Batch Request"
   ]
  },
  {
   "cell_type": "code",
   "execution_count": 3,
   "id": "fa892019",
   "metadata": {},
   "outputs": [
    {
     "name": "stderr",
     "output_type": "stream",
     "text": [
      "/Users/yusali/anaconda3/envs/mlops/lib/python3.10/site-packages/fastparquet/util.py:20: DeprecationWarning: distutils Version classes are deprecated. Use packaging.version instead.\n",
      "  PANDAS_VERSION = LooseVersion(pd.__version__)\n"
     ]
    }
   ],
   "source": [
    "# Read in the parquet file to memory \n",
    "df_batches_month = pd.read_parquet(f\"../../data/2020_22_liquor_month.parquet/partition_col=2020/\")\n",
    "df_batches_month = df_batches_month[~df_batches_month[\"Category Name\"].isna()]\n",
    "df_batches_month = df_batches_month[~df_batches_month[\"Vendor Name\"].isna()]"
   ]
  },
  {
   "cell_type": "code",
   "execution_count": 6,
   "id": "1e1e0aa8",
   "metadata": {},
   "outputs": [
    {
     "data": {
      "application/vnd.jupyter.widget-view+json": {
       "model_id": "41b268c793844ba58a8632dac46c0bc7",
       "version_major": 2,
       "version_minor": 0
      },
      "text/plain": [
       "Calculating Metrics:   0%|          | 0/2 [00:00<?, ?it/s]"
      ]
     },
     "metadata": {},
     "output_type": "display_data"
    },
    {
     "name": "stdout",
     "output_type": "stream",
     "text": [
      "Columns: \"Invoice/Item Number\", \"Store Number\", \"Store Name\", \"Address\", \"City\", \"Store Location\", \"County Number\", \"County\", \"Category\", \"Category Name\", \"Vendor Number\", \"Vendor Name\", \"Item Number\", \"Item Description\", \"Pack\", \"Bottle Volume (ml)\", \"State Bottle Cost\", \"State Bottle Retail\", \"Bottles Sold\", \"Sale (Dollars)\", \"Volume Sold (Liters)\", \"Volume Sold (Gallons)\", \"dir0\", \"dir1\".\n"
     ]
    },
    {
     "data": {
      "application/vnd.jupyter.widget-view+json": {
       "model_id": "d21d5753b2904763ab9772516572fc04",
       "version_major": 2,
       "version_minor": 0
      },
      "text/plain": [
       "Calculating Metrics:   0%|          | 0/1 [00:00<?, ?it/s]"
      ]
     },
     "metadata": {},
     "output_type": "display_data"
    },
    {
     "data": {
      "text/html": [
       "<div>\n",
       "<style scoped>\n",
       "    .dataframe tbody tr th:only-of-type {\n",
       "        vertical-align: middle;\n",
       "    }\n",
       "\n",
       "    .dataframe tbody tr th {\n",
       "        vertical-align: top;\n",
       "    }\n",
       "\n",
       "    .dataframe thead th {\n",
       "        text-align: right;\n",
       "    }\n",
       "</style>\n",
       "<table border=\"1\" class=\"dataframe\">\n",
       "  <thead>\n",
       "    <tr style=\"text-align: right;\">\n",
       "      <th></th>\n",
       "      <th>Invoice/Item Number</th>\n",
       "      <th>Store Number</th>\n",
       "      <th>Store Name</th>\n",
       "      <th>Address</th>\n",
       "      <th>City</th>\n",
       "      <th>Store Location</th>\n",
       "      <th>County Number</th>\n",
       "      <th>County</th>\n",
       "      <th>Category</th>\n",
       "      <th>Category Name</th>\n",
       "      <th>Vendor Number</th>\n",
       "      <th>Vendor Name</th>\n",
       "      <th>Item Number</th>\n",
       "      <th>Item Description</th>\n",
       "      <th>Pack</th>\n",
       "      <th>Bottle Volume (ml)</th>\n",
       "      <th>State Bottle Cost</th>\n",
       "      <th>State Bottle Retail</th>\n",
       "      <th>Bottles Sold</th>\n",
       "      <th>Sale (Dollars)</th>\n",
       "      <th>Volume Sold (Liters)</th>\n",
       "      <th>Volume Sold (Gallons)</th>\n",
       "      <th>dir0</th>\n",
       "      <th>dir1</th>\n",
       "    </tr>\n",
       "  </thead>\n",
       "  <tbody>\n",
       "    <tr>\n",
       "      <th>0</th>\n",
       "      <td>INV-24292600043</td>\n",
       "      <td>4404</td>\n",
       "      <td>KUM &amp; GO #292 / Ankeny</td>\n",
       "      <td>1825 N Ankeny Blvd</td>\n",
       "      <td>Ankeny</td>\n",
       "      <td>None</td>\n",
       "      <td>77.0</td>\n",
       "      <td>POLK</td>\n",
       "      <td>1012100.0</td>\n",
       "      <td>Canadian Whiskies</td>\n",
       "      <td>260.0</td>\n",
       "      <td>DIAGEO AMERICAS</td>\n",
       "      <td>10805</td>\n",
       "      <td>Crown Royal Regal Apple</td>\n",
       "      <td>24</td>\n",
       "      <td>375</td>\n",
       "      <td>8.00</td>\n",
       "      <td>12.00</td>\n",
       "      <td>2</td>\n",
       "      <td>24.00</td>\n",
       "      <td>0.75</td>\n",
       "      <td>0.19</td>\n",
       "      <td>1</td>\n",
       "      <td>2</td>\n",
       "    </tr>\n",
       "    <tr>\n",
       "      <th>1</th>\n",
       "      <td>INV-24306300051</td>\n",
       "      <td>5257</td>\n",
       "      <td>MAD Ave Quik Shop</td>\n",
       "      <td>405, Madison Ave</td>\n",
       "      <td>Ottumwa</td>\n",
       "      <td>None</td>\n",
       "      <td>90.0</td>\n",
       "      <td>WAPELLO</td>\n",
       "      <td>1031100.0</td>\n",
       "      <td>American Vodkas</td>\n",
       "      <td>434.0</td>\n",
       "      <td>LUXCO INC</td>\n",
       "      <td>36307</td>\n",
       "      <td>Hawkeye Vodka</td>\n",
       "      <td>12</td>\n",
       "      <td>1000</td>\n",
       "      <td>4.05</td>\n",
       "      <td>6.08</td>\n",
       "      <td>12</td>\n",
       "      <td>72.96</td>\n",
       "      <td>12.00</td>\n",
       "      <td>3.17</td>\n",
       "      <td>1</td>\n",
       "      <td>2</td>\n",
       "    </tr>\n",
       "    <tr>\n",
       "      <th>2</th>\n",
       "      <td>INV-24290400075</td>\n",
       "      <td>2502</td>\n",
       "      <td>Hy-Vee Wine and Spirits / Ankeny</td>\n",
       "      <td>410 North Ankeny Blvd</td>\n",
       "      <td>Ankeny</td>\n",
       "      <td>None</td>\n",
       "      <td>77.0</td>\n",
       "      <td>POLK</td>\n",
       "      <td>1012200.0</td>\n",
       "      <td>Scotch Whiskies</td>\n",
       "      <td>260.0</td>\n",
       "      <td>DIAGEO AMERICAS</td>\n",
       "      <td>5326</td>\n",
       "      <td>Johnnie Walker Black</td>\n",
       "      <td>12</td>\n",
       "      <td>750</td>\n",
       "      <td>21.49</td>\n",
       "      <td>32.24</td>\n",
       "      <td>4</td>\n",
       "      <td>128.96</td>\n",
       "      <td>3.00</td>\n",
       "      <td>0.79</td>\n",
       "      <td>1</td>\n",
       "      <td>2</td>\n",
       "    </tr>\n",
       "    <tr>\n",
       "      <th>3</th>\n",
       "      <td>INV-24312800016</td>\n",
       "      <td>5709</td>\n",
       "      <td>JW Liquor</td>\n",
       "      <td>4518 Mortonsen Street Suite #109</td>\n",
       "      <td>Ames</td>\n",
       "      <td>None</td>\n",
       "      <td>85.0</td>\n",
       "      <td>STORY</td>\n",
       "      <td>1081200.0</td>\n",
       "      <td>Cream Liqueurs</td>\n",
       "      <td>260.0</td>\n",
       "      <td>DIAGEO AMERICAS</td>\n",
       "      <td>68036</td>\n",
       "      <td>Baileys Original Irish Cream</td>\n",
       "      <td>12</td>\n",
       "      <td>750</td>\n",
       "      <td>16.49</td>\n",
       "      <td>24.74</td>\n",
       "      <td>6</td>\n",
       "      <td>121.50</td>\n",
       "      <td>4.50</td>\n",
       "      <td>1.18</td>\n",
       "      <td>1</td>\n",
       "      <td>2</td>\n",
       "    </tr>\n",
       "    <tr>\n",
       "      <th>4</th>\n",
       "      <td>INV-24294900180</td>\n",
       "      <td>2647</td>\n",
       "      <td>Hy-Vee #7 / Cedar Rapids</td>\n",
       "      <td>5050 Edgewood Rd</td>\n",
       "      <td>Cedar Rapids</td>\n",
       "      <td>POINT (-91.701581 42.030129)</td>\n",
       "      <td>57.0</td>\n",
       "      <td>LINN</td>\n",
       "      <td>1081200.0</td>\n",
       "      <td>Cream Liqueurs</td>\n",
       "      <td>260.0</td>\n",
       "      <td>DIAGEO AMERICAS</td>\n",
       "      <td>74086</td>\n",
       "      <td>Godiva Dark Chocolate Liqueur</td>\n",
       "      <td>12</td>\n",
       "      <td>750</td>\n",
       "      <td>17.00</td>\n",
       "      <td>25.50</td>\n",
       "      <td>3</td>\n",
       "      <td>76.50</td>\n",
       "      <td>2.25</td>\n",
       "      <td>0.59</td>\n",
       "      <td>1</td>\n",
       "      <td>2</td>\n",
       "    </tr>\n",
       "  </tbody>\n",
       "</table>\n",
       "</div>"
      ],
      "text/plain": [
       "  Invoice/Item Number  Store Number                        Store Name  \\\n",
       "0     INV-24292600043          4404            KUM & GO #292 / Ankeny   \n",
       "1     INV-24306300051          5257                 MAD Ave Quik Shop   \n",
       "2     INV-24290400075          2502  Hy-Vee Wine and Spirits / Ankeny   \n",
       "3     INV-24312800016          5709                         JW Liquor   \n",
       "4     INV-24294900180          2647          Hy-Vee #7 / Cedar Rapids   \n",
       "\n",
       "                            Address          City  \\\n",
       "0                1825 N Ankeny Blvd        Ankeny   \n",
       "1                  405, Madison Ave       Ottumwa   \n",
       "2             410 North Ankeny Blvd        Ankeny   \n",
       "3  4518 Mortonsen Street Suite #109          Ames   \n",
       "4                  5050 Edgewood Rd  Cedar Rapids   \n",
       "\n",
       "                 Store Location  County Number   County   Category  \\\n",
       "0                          None           77.0     POLK  1012100.0   \n",
       "1                          None           90.0  WAPELLO  1031100.0   \n",
       "2                          None           77.0     POLK  1012200.0   \n",
       "3                          None           85.0    STORY  1081200.0   \n",
       "4  POINT (-91.701581 42.030129)           57.0     LINN  1081200.0   \n",
       "\n",
       "       Category Name  Vendor Number      Vendor Name  Item Number  \\\n",
       "0  Canadian Whiskies          260.0  DIAGEO AMERICAS        10805   \n",
       "1    American Vodkas          434.0        LUXCO INC        36307   \n",
       "2    Scotch Whiskies          260.0  DIAGEO AMERICAS         5326   \n",
       "3     Cream Liqueurs          260.0  DIAGEO AMERICAS        68036   \n",
       "4     Cream Liqueurs          260.0  DIAGEO AMERICAS        74086   \n",
       "\n",
       "                Item Description  Pack  Bottle Volume (ml)  State Bottle Cost  \\\n",
       "0        Crown Royal Regal Apple    24                 375               8.00   \n",
       "1                  Hawkeye Vodka    12                1000               4.05   \n",
       "2           Johnnie Walker Black    12                 750              21.49   \n",
       "3   Baileys Original Irish Cream    12                 750              16.49   \n",
       "4  Godiva Dark Chocolate Liqueur    12                 750              17.00   \n",
       "\n",
       "   State Bottle Retail  Bottles Sold  Sale (Dollars)  Volume Sold (Liters)  \\\n",
       "0                12.00             2           24.00                  0.75   \n",
       "1                 6.08            12           72.96                 12.00   \n",
       "2                32.24             4          128.96                  3.00   \n",
       "3                24.74             6          121.50                  4.50   \n",
       "4                25.50             3           76.50                  2.25   \n",
       "\n",
       "   Volume Sold (Gallons) dir0 dir1  \n",
       "0                   0.19    1    2  \n",
       "1                   3.17    1    2  \n",
       "2                   0.79    1    2  \n",
       "3                   1.18    1    2  \n",
       "4                   0.59    1    2  "
      ]
     },
     "execution_count": 6,
     "metadata": {},
     "output_type": "execute_result"
    }
   ],
   "source": [
    "from great_expectations.core.batch import RuntimeBatchRequest\n",
    "\n",
    "batch_request = RuntimeBatchRequest(\n",
    "    datasource_name=\"demo_datasource\",\n",
    "    data_connector_name=\"default_runtime_data_connector_name\",\n",
    "    data_asset_name=\"my_runtime_asset_name\",  # This can be anything that identifies this data_asset for you\n",
    "    runtime_parameters={\"batch_data\": df_batches_month},  # Pass your DataFrame here.\n",
    "    batch_identifiers={\"runtime_batch_identifier_name\": \"liquor_data_ref_20_idfer\"},\n",
    ")\n",
    "\n",
    "expectation_suite_name = \"demo_profiler\"\n",
    "\n",
    "validator = context.get_validator(\n",
    "    batch_request=batch_request,\n",
    "    expectation_suite_name=expectation_suite_name\n",
    ")\n",
    "column_names = [f'\"{column_name}\"' for column_name in validator.columns()]\n",
    "print(f\"Columns: {', '.join(column_names)}.\")\n",
    "validator.head(n_rows=5, fetch_all=False)"
   ]
  },
  {
   "cell_type": "code",
   "execution_count": null,
   "id": "c748ba95",
   "metadata": {},
   "outputs": [],
   "source": [
    "## Default config, we are not using it\n",
    "\n",
    "batch_request = {'datasource_name': 'demo_datasource', \n",
    "                 'data_connector_name': 'default_inferred_data_connector_name', \n",
    "                 'data_asset_name': '2020_22_liquor_month.parquet', \n",
    "                 'limit': 1000}\n",
    "\n",
    "expectation_suite_name = \"demo_profiler\"\n",
    "\n",
    "validator = context.get_validator(\n",
    "    batch_request=BatchRequest(**batch_request),\n",
    "    expectation_suite_name=expectation_suite_name\n",
    ")\n",
    "column_names = [f'\"{column_name}\"' for column_name in validator.columns()]\n",
    "print(f\"Columns: {', '.join(column_names)}.\")\n",
    "validator.head(n_rows=5, fetch_all=False)"
   ]
  },
  {
   "cell_type": "markdown",
   "id": "f6a7e3f5",
   "metadata": {},
   "source": [
    "# Select columns\n",
    "\n",
    "Select the columns on which you would like to set expectations and those which you would like to ignore.\n",
    "\n",
    "Great Expectations will choose which expectations might make sense for a column based on the **data type** and **cardinality** of the data in each selected column.\n",
    "\n",
    "Simply comment out columns that are important and should be included. You can select multiple lines and use a Jupyter\n",
    "keyboard shortcut to toggle each line: **Linux/Windows**:\n",
    "`Ctrl-/`, **macOS**: `Cmd-/`\n",
    "        "
   ]
  },
  {
   "cell_type": "code",
   "execution_count": 7,
   "id": "ea187f0f",
   "metadata": {},
   "outputs": [],
   "source": [
    "exclude_column_names = [\n",
    "    \"Invoice/Item Number\",\n",
    "    \"Store Number\",\n",
    "    \"Store Name\",\n",
    "    \"Address\",\n",
    "    \"City\",\n",
    "    \"Store Location\",\n",
    "    \"County Number\",\n",
    "    \"County\",\n",
    "    \"Category\",\n",
    "    \"Category Name\",\n",
    "    \"Vendor Number\",\n",
    "    \"Vendor Name\",\n",
    "    \"Item Number\",\n",
    "    \"Item Description\",\n",
    "    \"Pack\",\n",
    "    \"Bottle Volume (ml)\",\n",
    "    \"State Bottle Cost\",\n",
    "    \"State Bottle Retail\",\n",
    "    \"Bottles Sold\",\n",
    "    \"Sale (Dollars)\",\n",
    "    \"Volume Sold (Liters)\",\n",
    "    \"Volume Sold (Gallons)\",\n",
    "    \"partition_col\",\n",
    "]"
   ]
  },
  {
   "cell_type": "markdown",
   "id": "99926ac3",
   "metadata": {},
   "source": [
    "# Run the UserConfigurableProfiler\n",
    "\n",
    "The suites generated here are **not meant to be production suites** -- they are **a starting point to build upon**.\n",
    "\n",
    "**To get to a production-grade suite, you will definitely want to [edit this\n",
    "suite](https://docs.greatexpectations.io/en/latest/guides/how_to_guides/creating_and_editing_expectations/how_to_edit_an_expectation_suite_using_a_disposable_notebook.html?utm_source=notebook&utm_medium=profile_based_expectations)\n",
    "after this initial step gets you started on the path towards what you want.**\n",
    "\n",
    "This is highly configurable depending on your goals.\n",
    "You can ignore columns or exclude certain expectations, specify a threshold for creating value set expectations, or even specify semantic types for a given column.\n",
    "You can find more information about [how to configure this profiler, including a list of the expectations that it uses, here.](https://docs.greatexpectations.io/en/latest/guides/how_to_guides/creating_and_editing_expectations/how_to_create_an_expectation_suite_with_the_user_configurable_profiler.html)\n",
    "\n"
   ]
  },
  {
   "cell_type": "code",
   "execution_count": 8,
   "id": "feafeb07",
   "metadata": {},
   "outputs": [
    {
     "data": {
      "application/vnd.jupyter.widget-view+json": {
       "model_id": "d69e3fc2e36148e99421352ca7b58d99",
       "version_major": 2,
       "version_minor": 0
      },
      "text/plain": [
       "Calculating Metrics:   0%|          | 0/2 [00:00<?, ?it/s]"
      ]
     },
     "metadata": {},
     "output_type": "display_data"
    },
    {
     "data": {
      "application/vnd.jupyter.widget-view+json": {
       "model_id": "a5aa452dc5d24a46aa40d339e7ad3d25",
       "version_major": 2,
       "version_minor": 0
      },
      "text/plain": [
       "Calculating Metrics:   0%|          | 0/4 [00:00<?, ?it/s]"
      ]
     },
     "metadata": {},
     "output_type": "display_data"
    },
    {
     "data": {
      "application/vnd.jupyter.widget-view+json": {
       "model_id": "2d103c3a5e0e4f14adc0ffd2bef0d653",
       "version_major": 2,
       "version_minor": 0
      },
      "text/plain": [
       "Calculating Metrics:   0%|          | 0/7 [00:00<?, ?it/s]"
      ]
     },
     "metadata": {},
     "output_type": "display_data"
    },
    {
     "data": {
      "application/vnd.jupyter.widget-view+json": {
       "model_id": "eae6106e43d24bfe88c409a851eb9c5c",
       "version_major": 2,
       "version_minor": 0
      },
      "text/plain": [
       "Calculating Metrics:   0%|          | 0/1 [00:00<?, ?it/s]"
      ]
     },
     "metadata": {},
     "output_type": "display_data"
    },
    {
     "data": {
      "application/vnd.jupyter.widget-view+json": {
       "model_id": "8df0a5b9088d473cb38cacd12c045477",
       "version_major": 2,
       "version_minor": 0
      },
      "text/plain": [
       "Calculating Metrics:   0%|          | 0/1 [00:00<?, ?it/s]"
      ]
     },
     "metadata": {},
     "output_type": "display_data"
    },
    {
     "data": {
      "application/vnd.jupyter.widget-view+json": {
       "model_id": "eb9e53b204af4fceb9c80cc31c0d634c",
       "version_major": 2,
       "version_minor": 0
      },
      "text/plain": [
       "Calculating Metrics:   0%|          | 0/1 [00:00<?, ?it/s]"
      ]
     },
     "metadata": {},
     "output_type": "display_data"
    },
    {
     "data": {
      "application/vnd.jupyter.widget-view+json": {
       "model_id": "0cb2e4010c204f069d4370c4450fd15c",
       "version_major": 2,
       "version_minor": 0
      },
      "text/plain": [
       "Calculating Metrics:   0%|          | 0/1 [00:00<?, ?it/s]"
      ]
     },
     "metadata": {},
     "output_type": "display_data"
    },
    {
     "data": {
      "application/vnd.jupyter.widget-view+json": {
       "model_id": "abc7c175c51c4f80b8f25a6f90b2ccf2",
       "version_major": 2,
       "version_minor": 0
      },
      "text/plain": [
       "Calculating Metrics:   0%|          | 0/1 [00:00<?, ?it/s]"
      ]
     },
     "metadata": {},
     "output_type": "display_data"
    },
    {
     "data": {
      "application/vnd.jupyter.widget-view+json": {
       "model_id": "b4bc5b9814294d44822a264f674ad84e",
       "version_major": 2,
       "version_minor": 0
      },
      "text/plain": [
       "Calculating Metrics:   0%|          | 0/1 [00:00<?, ?it/s]"
      ]
     },
     "metadata": {},
     "output_type": "display_data"
    },
    {
     "data": {
      "application/vnd.jupyter.widget-view+json": {
       "model_id": "7e721eb2e9564d2e99864d7a7a3822d1",
       "version_major": 2,
       "version_minor": 0
      },
      "text/plain": [
       "Calculating Metrics:   0%|          | 0/4 [00:00<?, ?it/s]"
      ]
     },
     "metadata": {},
     "output_type": "display_data"
    },
    {
     "data": {
      "application/vnd.jupyter.widget-view+json": {
       "model_id": "3970468e7ee149028b0e4a4a9aa9a94e",
       "version_major": 2,
       "version_minor": 0
      },
      "text/plain": [
       "Calculating Metrics:   0%|          | 0/7 [00:00<?, ?it/s]"
      ]
     },
     "metadata": {},
     "output_type": "display_data"
    },
    {
     "data": {
      "application/vnd.jupyter.widget-view+json": {
       "model_id": "48bdef0fa14e4fb4a5f94656e3f472bc",
       "version_major": 2,
       "version_minor": 0
      },
      "text/plain": [
       "Calculating Metrics:   0%|          | 0/1 [00:00<?, ?it/s]"
      ]
     },
     "metadata": {},
     "output_type": "display_data"
    },
    {
     "data": {
      "application/vnd.jupyter.widget-view+json": {
       "model_id": "4ea99b3efa154e0eb115b109948990a1",
       "version_major": 2,
       "version_minor": 0
      },
      "text/plain": [
       "Calculating Metrics:   0%|          | 0/1 [00:00<?, ?it/s]"
      ]
     },
     "metadata": {},
     "output_type": "display_data"
    },
    {
     "data": {
      "application/vnd.jupyter.widget-view+json": {
       "model_id": "1bfea3129126461898123fc7baa9c5b3",
       "version_major": 2,
       "version_minor": 0
      },
      "text/plain": [
       "Calculating Metrics:   0%|          | 0/1 [00:00<?, ?it/s]"
      ]
     },
     "metadata": {},
     "output_type": "display_data"
    },
    {
     "data": {
      "application/vnd.jupyter.widget-view+json": {
       "model_id": "1f19bc249431441c898318738dda4206",
       "version_major": 2,
       "version_minor": 0
      },
      "text/plain": [
       "Calculating Metrics:   0%|          | 0/1 [00:00<?, ?it/s]"
      ]
     },
     "metadata": {},
     "output_type": "display_data"
    },
    {
     "data": {
      "application/vnd.jupyter.widget-view+json": {
       "model_id": "20d27f8229904f688ddda7bda17a55c6",
       "version_major": 2,
       "version_minor": 0
      },
      "text/plain": [
       "Calculating Metrics:   0%|          | 0/1 [00:00<?, ?it/s]"
      ]
     },
     "metadata": {},
     "output_type": "display_data"
    },
    {
     "data": {
      "application/vnd.jupyter.widget-view+json": {
       "model_id": "7d0ed854c2324f67a5e177b93cee4a1b",
       "version_major": 2,
       "version_minor": 0
      },
      "text/plain": [
       "Calculating Metrics:   0%|          | 0/1 [00:00<?, ?it/s]"
      ]
     },
     "metadata": {},
     "output_type": "display_data"
    },
    {
     "name": "stdout",
     "output_type": "stream",
     "text": [
      "2022-08-29T13:20:12-0400 - INFO - \t0 expectation(s) included in expectation_suite.\n"
     ]
    },
    {
     "data": {
      "application/vnd.jupyter.widget-view+json": {
       "model_id": "40f73e0c9b9548c4b9693fb7de83b0b2",
       "version_major": 2,
       "version_minor": 0
      },
      "text/plain": [
       "Calculating Metrics:   0%|          | 0/2 [00:00<?, ?it/s]"
      ]
     },
     "metadata": {},
     "output_type": "display_data"
    },
    {
     "data": {
      "application/vnd.jupyter.widget-view+json": {
       "model_id": "b41661bc0f5946d7bf38c82bf7d725f1",
       "version_major": 2,
       "version_minor": 0
      },
      "text/plain": [
       "Calculating Metrics:   0%|          | 0/1 [00:00<?, ?it/s]"
      ]
     },
     "metadata": {},
     "output_type": "display_data"
    },
    {
     "data": {
      "application/vnd.jupyter.widget-view+json": {
       "model_id": "79944774988f4474b702dc409afbfadb",
       "version_major": 2,
       "version_minor": 0
      },
      "text/plain": [
       "Calculating Metrics:   0%|          | 0/1 [00:00<?, ?it/s]"
      ]
     },
     "metadata": {},
     "output_type": "display_data"
    },
    {
     "data": {
      "application/vnd.jupyter.widget-view+json": {
       "model_id": "3af5829fc59e47c8a027502088b95b21",
       "version_major": 2,
       "version_minor": 0
      },
      "text/plain": [
       "Profiling:   0%|          | 0/2 [00:00<?, ?it/s, Column=dir0]"
      ]
     },
     "metadata": {},
     "output_type": "display_data"
    },
    {
     "data": {
      "application/vnd.jupyter.widget-view+json": {
       "model_id": "a68362a71553435db822fcfcc6ec91b6",
       "version_major": 2,
       "version_minor": 0
      },
      "text/plain": [
       "Calculating Metrics:   0%|          | 0/4 [00:00<?, ?it/s]"
      ]
     },
     "metadata": {},
     "output_type": "display_data"
    },
    {
     "data": {
      "application/vnd.jupyter.widget-view+json": {
       "model_id": "4d0b7beaa7574f5c983fdfbda5a32fd2",
       "version_major": 2,
       "version_minor": 0
      },
      "text/plain": [
       "Calculating Metrics:   0%|          | 0/8 [00:00<?, ?it/s]"
      ]
     },
     "metadata": {},
     "output_type": "display_data"
    },
    {
     "data": {
      "application/vnd.jupyter.widget-view+json": {
       "model_id": "75d202eccc1642b488551a45a0be930b",
       "version_major": 2,
       "version_minor": 0
      },
      "text/plain": [
       "Calculating Metrics:   0%|          | 0/6 [00:00<?, ?it/s]"
      ]
     },
     "metadata": {},
     "output_type": "display_data"
    },
    {
     "data": {
      "application/vnd.jupyter.widget-view+json": {
       "model_id": "da9cffafca364c3a890d627d72009733",
       "version_major": 2,
       "version_minor": 0
      },
      "text/plain": [
       "Calculating Metrics:   0%|          | 0/7 [00:00<?, ?it/s]"
      ]
     },
     "metadata": {},
     "output_type": "display_data"
    },
    {
     "data": {
      "application/vnd.jupyter.widget-view+json": {
       "model_id": "5fc5c192e2b748b694d40cf3b6b83c3a",
       "version_major": 2,
       "version_minor": 0
      },
      "text/plain": [
       "Calculating Metrics:   0%|          | 0/7 [00:00<?, ?it/s]"
      ]
     },
     "metadata": {},
     "output_type": "display_data"
    },
    {
     "name": "stdout",
     "output_type": "stream",
     "text": [
      "2022-08-29T13:20:14-0400 - INFO - Column type for column dir0 is unknown. Skipping expect_column_values_to_be_in_type_list for this column.\n"
     ]
    },
    {
     "data": {
      "application/vnd.jupyter.widget-view+json": {
       "model_id": "a901ca0fa4ed460da63e2f1ee73465c1",
       "version_major": 2,
       "version_minor": 0
      },
      "text/plain": [
       "Calculating Metrics:   0%|          | 0/4 [00:00<?, ?it/s]"
      ]
     },
     "metadata": {},
     "output_type": "display_data"
    },
    {
     "data": {
      "application/vnd.jupyter.widget-view+json": {
       "model_id": "cdb05c3f55ec49959edaacb45b880af8",
       "version_major": 2,
       "version_minor": 0
      },
      "text/plain": [
       "Calculating Metrics:   0%|          | 0/8 [00:00<?, ?it/s]"
      ]
     },
     "metadata": {},
     "output_type": "display_data"
    },
    {
     "data": {
      "application/vnd.jupyter.widget-view+json": {
       "model_id": "3ba8d777cee448698a35788054047fc5",
       "version_major": 2,
       "version_minor": 0
      },
      "text/plain": [
       "Calculating Metrics:   0%|          | 0/6 [00:00<?, ?it/s]"
      ]
     },
     "metadata": {},
     "output_type": "display_data"
    },
    {
     "data": {
      "application/vnd.jupyter.widget-view+json": {
       "model_id": "0ada35c6853c4da886374d44a22ed4f9",
       "version_major": 2,
       "version_minor": 0
      },
      "text/plain": [
       "Calculating Metrics:   0%|          | 0/7 [00:00<?, ?it/s]"
      ]
     },
     "metadata": {},
     "output_type": "display_data"
    },
    {
     "data": {
      "application/vnd.jupyter.widget-view+json": {
       "model_id": "4c33ad07f98e4a08aa5b040daf450ee7",
       "version_major": 2,
       "version_minor": 0
      },
      "text/plain": [
       "Calculating Metrics:   0%|          | 0/7 [00:00<?, ?it/s]"
      ]
     },
     "metadata": {},
     "output_type": "display_data"
    },
    {
     "name": "stdout",
     "output_type": "stream",
     "text": [
      "2022-08-29T13:20:15-0400 - INFO - Column type for column dir1 is unknown. Skipping expect_column_values_to_be_in_type_list for this column.\n",
      "2022-08-29T13:20:15-0400 - INFO - \t8 expectation(s) included in expectation_suite.\n",
      "Creating an expectation suite with the following expectations:\n",
      "\n",
      "Table-Level Expectations\n",
      "expect_table_columns_to_match_ordered_list\n",
      "expect_table_row_count_to_be_between\n",
      "\n",
      "Expectations by Column\n",
      "Column Name: dir0 | Column Data Type: UNKNOWN | Cardinality: VERY_FEW\n",
      "expect_column_proportion_of_unique_values_to_be_between\n",
      "expect_column_values_to_be_in_set\n",
      "expect_column_values_to_not_be_null\n",
      "\n",
      "\n",
      "Column Name: dir1 | Column Data Type: UNKNOWN | Cardinality: FEW\n",
      "expect_column_proportion_of_unique_values_to_be_between\n",
      "expect_column_values_to_be_in_set\n",
      "expect_column_values_to_not_be_null\n",
      "\n",
      "\n"
     ]
    }
   ],
   "source": [
    "profiler = UserConfigurableProfiler(\n",
    "    profile_dataset=validator,\n",
    "    excluded_expectations=None,\n",
    "    ignored_columns=exclude_column_names,\n",
    "    not_null_only=False,\n",
    "    primary_or_compound_key=None,\n",
    "    semantic_types_dict=None,\n",
    "    table_expectations_only=False,\n",
    "    value_set_threshold=\"MANY\",\n",
    ")\n",
    "suite = profiler.build_suite()\n",
    "validator.expectation_suite = suite"
   ]
  },
  {
   "cell_type": "markdown",
   "id": "8d141421",
   "metadata": {},
   "source": [
    "# Save & review your new Expectation Suite\n",
    "\n",
    "Let's save the draft expectation suite as a JSON file in the\n",
    "`great_expectations/expectations` directory of your project and rebuild the Data\n",
    " Docs site to make it easy to review your new suite."
   ]
  },
  {
   "cell_type": "code",
   "execution_count": 9,
   "id": "42a672e9",
   "metadata": {},
   "outputs": [
    {
     "name": "stdout",
     "output_type": "stream",
     "text": [
      "2022-08-29T13:20:18-0400 - INFO - \t8 expectation(s) included in expectation_suite.\n",
      "{\n",
      "  \"meta\": {\n",
      "    \"citations\": [\n",
      "      {\n",
      "        \"batch_request\": {\n",
      "          \"data_asset_name\": \"2020_22_liquor_month.parquet\",\n",
      "          \"data_connector_name\": \"default_inferred_data_connector_name\",\n",
      "          \"datasource_name\": \"demo_datasource\",\n",
      "          \"limit\": 1000\n",
      "        },\n",
      "        \"citation_date\": \"2022-08-29T03:01:02.643561Z\",\n",
      "        \"comment\": \"Created suite added via CLI\"\n",
      "      }\n",
      "    ],\n",
      "    \"great_expectations_version\": \"0.15.18\",\n",
      "    \"columns\": {\n",
      "      \"Invoice/Item Number\": {\n",
      "        \"description\": \"\"\n",
      "      },\n",
      "      \"Store Number\": {\n",
      "        \"description\": \"\"\n",
      "      },\n",
      "      \"Store Name\": {\n",
      "        \"description\": \"\"\n",
      "      },\n",
      "      \"Address\": {\n",
      "        \"description\": \"\"\n",
      "      },\n",
      "      \"City\": {\n",
      "        \"description\": \"\"\n",
      "      },\n",
      "      \"Store Location\": {\n",
      "        \"description\": \"\"\n",
      "      },\n",
      "      \"County Number\": {\n",
      "        \"description\": \"\"\n",
      "      },\n",
      "      \"County\": {\n",
      "        \"description\": \"\"\n",
      "      },\n",
      "      \"Category\": {\n",
      "        \"description\": \"\"\n",
      "      },\n",
      "      \"Category Name\": {\n",
      "        \"description\": \"\"\n",
      "      },\n",
      "      \"Vendor Number\": {\n",
      "        \"description\": \"\"\n",
      "      },\n",
      "      \"Vendor Name\": {\n",
      "        \"description\": \"\"\n",
      "      },\n",
      "      \"Item Number\": {\n",
      "        \"description\": \"\"\n",
      "      },\n",
      "      \"Item Description\": {\n",
      "        \"description\": \"\"\n",
      "      },\n",
      "      \"Pack\": {\n",
      "        \"description\": \"\"\n",
      "      },\n",
      "      \"Bottle Volume (ml)\": {\n",
      "        \"description\": \"\"\n",
      "      },\n",
      "      \"State Bottle Cost\": {\n",
      "        \"description\": \"\"\n",
      "      },\n",
      "      \"State Bottle Retail\": {\n",
      "        \"description\": \"\"\n",
      "      },\n",
      "      \"Bottles Sold\": {\n",
      "        \"description\": \"\"\n",
      "      },\n",
      "      \"Sale (Dollars)\": {\n",
      "        \"description\": \"\"\n",
      "      },\n",
      "      \"Volume Sold (Liters)\": {\n",
      "        \"description\": \"\"\n",
      "      },\n",
      "      \"Volume Sold (Gallons)\": {\n",
      "        \"description\": \"\"\n",
      "      },\n",
      "      \"dir0\": {\n",
      "        \"description\": \"\"\n",
      "      },\n",
      "      \"dir1\": {\n",
      "        \"description\": \"\"\n",
      "      }\n",
      "    }\n",
      "  },\n",
      "  \"expectations\": [\n",
      "    {\n",
      "      \"meta\": {},\n",
      "      \"kwargs\": {\n",
      "        \"column_list\": [\n",
      "          \"Invoice/Item Number\",\n",
      "          \"Store Number\",\n",
      "          \"Store Name\",\n",
      "          \"Address\",\n",
      "          \"City\",\n",
      "          \"Store Location\",\n",
      "          \"County Number\",\n",
      "          \"County\",\n",
      "          \"Category\",\n",
      "          \"Category Name\",\n",
      "          \"Vendor Number\",\n",
      "          \"Vendor Name\",\n",
      "          \"Item Number\",\n",
      "          \"Item Description\",\n",
      "          \"Pack\",\n",
      "          \"Bottle Volume (ml)\",\n",
      "          \"State Bottle Cost\",\n",
      "          \"State Bottle Retail\",\n",
      "          \"Bottles Sold\",\n",
      "          \"Sale (Dollars)\",\n",
      "          \"Volume Sold (Liters)\",\n",
      "          \"Volume Sold (Gallons)\",\n",
      "          \"dir0\",\n",
      "          \"dir1\"\n",
      "        ]\n",
      "      },\n",
      "      \"expectation_type\": \"expect_table_columns_to_match_ordered_list\"\n",
      "    },\n",
      "    {\n",
      "      \"meta\": {},\n",
      "      \"kwargs\": {\n",
      "        \"min_value\": 2613683,\n",
      "        \"max_value\": 2613683\n",
      "      },\n",
      "      \"expectation_type\": \"expect_table_row_count_to_be_between\"\n",
      "    },\n",
      "    {\n",
      "      \"meta\": {},\n",
      "      \"kwargs\": {\n",
      "        \"value_set\": [\n",
      "          1,\n",
      "          2,\n",
      "          3,\n",
      "          4,\n",
      "          5,\n",
      "          6,\n",
      "          7,\n",
      "          8,\n",
      "          9,\n",
      "          10,\n",
      "          11,\n",
      "          12\n",
      "        ],\n",
      "        \"column\": \"dir0\"\n",
      "      },\n",
      "      \"expectation_type\": \"expect_column_values_to_be_in_set\"\n",
      "    },\n",
      "    {\n",
      "      \"meta\": {},\n",
      "      \"kwargs\": {\n",
      "        \"column\": \"dir0\"\n",
      "      },\n",
      "      \"expectation_type\": \"expect_column_values_to_not_be_null\"\n",
      "    },\n",
      "    {\n",
      "      \"meta\": {},\n",
      "      \"kwargs\": {\n",
      "        \"min_value\": 4.591222424448565e-06,\n",
      "        \"max_value\": 4.591222424448565e-06,\n",
      "        \"column\": \"dir0\"\n",
      "      },\n",
      "      \"expectation_type\": \"expect_column_proportion_of_unique_values_to_be_between\"\n",
      "    },\n",
      "    {\n",
      "      \"meta\": {},\n",
      "      \"kwargs\": {\n",
      "        \"value_set\": [\n",
      "          1,\n",
      "          2,\n",
      "          3,\n",
      "          4,\n",
      "          5,\n",
      "          6,\n",
      "          7,\n",
      "          8,\n",
      "          9,\n",
      "          10,\n",
      "          11,\n",
      "          12,\n",
      "          13,\n",
      "          14,\n",
      "          15,\n",
      "          16,\n",
      "          17,\n",
      "          18,\n",
      "          19,\n",
      "          20,\n",
      "          21,\n",
      "          22,\n",
      "          23,\n",
      "          24,\n",
      "          25,\n",
      "          26,\n",
      "          27,\n",
      "          28,\n",
      "          29,\n",
      "          30,\n",
      "          31\n",
      "        ],\n",
      "        \"column\": \"dir1\"\n",
      "      },\n",
      "      \"expectation_type\": \"expect_column_values_to_be_in_set\"\n",
      "    },\n",
      "    {\n",
      "      \"meta\": {},\n",
      "      \"kwargs\": {\n",
      "        \"column\": \"dir1\"\n",
      "      },\n",
      "      \"expectation_type\": \"expect_column_values_to_not_be_null\"\n",
      "    },\n",
      "    {\n",
      "      \"meta\": {},\n",
      "      \"kwargs\": {\n",
      "        \"min_value\": 1.1860657929825462e-05,\n",
      "        \"max_value\": 1.1860657929825462e-05,\n",
      "        \"column\": \"dir1\"\n",
      "      },\n",
      "      \"expectation_type\": \"expect_column_proportion_of_unique_values_to_be_between\"\n",
      "    }\n",
      "  ],\n",
      "  \"expectation_suite_name\": \"demo_profiler\",\n",
      "  \"ge_cloud_id\": null,\n",
      "  \"data_asset_type\": null\n",
      "}\n",
      "2022-08-29T13:20:18-0400 - INFO - \t8 expectation(s) included in expectation_suite.\n"
     ]
    },
    {
     "ename": "ValueError",
     "evalue": "Error: batch_data found in batch_request -- only primitive types are allowed as Checkpoint constructor arguments.\n",
     "output_type": "error",
     "traceback": [
      "\u001b[0;31m---------------------------------------------------------------------------\u001b[0m",
      "\u001b[0;31mValueError\u001b[0m                                Traceback (most recent call last)",
      "Input \u001b[0;32mIn [9]\u001b[0m, in \u001b[0;36m<cell line: 13>\u001b[0;34m()\u001b[0m\n\u001b[1;32m      2\u001b[0m validator\u001b[38;5;241m.\u001b[39msave_expectation_suite(discard_failed_expectations\u001b[38;5;241m=\u001b[39m\u001b[38;5;28;01mFalse\u001b[39;00m)\n\u001b[1;32m      4\u001b[0m checkpoint_config \u001b[38;5;241m=\u001b[39m {\n\u001b[1;32m      5\u001b[0m     \u001b[38;5;124m\"\u001b[39m\u001b[38;5;124mclass_name\u001b[39m\u001b[38;5;124m\"\u001b[39m: \u001b[38;5;124m\"\u001b[39m\u001b[38;5;124mSimpleCheckpoint\u001b[39m\u001b[38;5;124m\"\u001b[39m,\n\u001b[1;32m      6\u001b[0m     \u001b[38;5;124m\"\u001b[39m\u001b[38;5;124mvalidations\u001b[39m\u001b[38;5;124m\"\u001b[39m: [\n\u001b[0;32m   (...)\u001b[0m\n\u001b[1;32m     11\u001b[0m     ]\n\u001b[1;32m     12\u001b[0m }\n\u001b[0;32m---> 13\u001b[0m checkpoint \u001b[38;5;241m=\u001b[39m \u001b[43mSimpleCheckpoint\u001b[49m\u001b[43m(\u001b[49m\n\u001b[1;32m     14\u001b[0m \u001b[43m    \u001b[49m\u001b[38;5;124;43mf\u001b[39;49m\u001b[38;5;124;43m\"\u001b[39;49m\u001b[38;5;132;43;01m{\u001b[39;49;00m\u001b[43mvalidator\u001b[49m\u001b[38;5;241;43m.\u001b[39;49m\u001b[43mactive_batch_definition\u001b[49m\u001b[38;5;241;43m.\u001b[39;49m\u001b[43mdata_asset_name\u001b[49m\u001b[38;5;132;43;01m}\u001b[39;49;00m\u001b[38;5;124;43m_\u001b[39;49m\u001b[38;5;132;43;01m{\u001b[39;49;00m\u001b[43mexpectation_suite_name\u001b[49m\u001b[38;5;132;43;01m}\u001b[39;49;00m\u001b[38;5;124;43m\"\u001b[39;49m\u001b[43m,\u001b[49m\n\u001b[1;32m     15\u001b[0m \u001b[43m    \u001b[49m\u001b[43mcontext\u001b[49m\u001b[43m,\u001b[49m\n\u001b[1;32m     16\u001b[0m \u001b[43m    \u001b[49m\u001b[38;5;241;43m*\u001b[39;49m\u001b[38;5;241;43m*\u001b[39;49m\u001b[43mcheckpoint_config\u001b[49m\n\u001b[1;32m     17\u001b[0m \u001b[43m)\u001b[49m\n\u001b[1;32m     18\u001b[0m checkpoint_result \u001b[38;5;241m=\u001b[39m checkpoint\u001b[38;5;241m.\u001b[39mrun()\n\u001b[1;32m     20\u001b[0m context\u001b[38;5;241m.\u001b[39mbuild_data_docs()\n",
      "File \u001b[0;32m~/anaconda3/envs/mlops/lib/python3.10/site-packages/great_expectations/checkpoint/checkpoint.py:1110\u001b[0m, in \u001b[0;36mSimpleCheckpoint.__init__\u001b[0;34m(self, name, data_context, config_version, template_name, run_name_template, expectation_suite_name, batch_request, action_list, evaluation_parameters, runtime_configuration, validations, profilers, ge_cloud_id, site_names, slack_webhook, notify_on, notify_with, expectation_suite_ge_cloud_id, **kwargs)\u001b[0m\n\u001b[1;32m   1066\u001b[0m \u001b[38;5;28;01mdef\u001b[39;00m \u001b[38;5;21m__init__\u001b[39m(\n\u001b[1;32m   1067\u001b[0m     \u001b[38;5;28mself\u001b[39m,\n\u001b[1;32m   1068\u001b[0m     name: \u001b[38;5;28mstr\u001b[39m,\n\u001b[0;32m   (...)\u001b[0m\n\u001b[1;32m   1087\u001b[0m     \u001b[38;5;241m*\u001b[39m\u001b[38;5;241m*\u001b[39mkwargs,\n\u001b[1;32m   1088\u001b[0m ) \u001b[38;5;241m-\u001b[39m\u001b[38;5;241m>\u001b[39m \u001b[38;5;28;01mNone\u001b[39;00m:\n\u001b[1;32m   1089\u001b[0m     checkpoint_config: CheckpointConfig \u001b[38;5;241m=\u001b[39m \u001b[38;5;28mself\u001b[39m\u001b[38;5;241m.\u001b[39m_configurator_class(\n\u001b[1;32m   1090\u001b[0m         name\u001b[38;5;241m=\u001b[39mname,\n\u001b[1;32m   1091\u001b[0m         data_context\u001b[38;5;241m=\u001b[39mdata_context,\n\u001b[0;32m   (...)\u001b[0m\n\u001b[1;32m   1107\u001b[0m         expectation_suite_ge_cloud_id\u001b[38;5;241m=\u001b[39mexpectation_suite_ge_cloud_id,\n\u001b[1;32m   1108\u001b[0m     )\u001b[38;5;241m.\u001b[39mbuild()\n\u001b[0;32m-> 1110\u001b[0m     \u001b[38;5;28;43msuper\u001b[39;49m\u001b[43m(\u001b[49m\u001b[43m)\u001b[49m\u001b[38;5;241;43m.\u001b[39;49m\u001b[38;5;21;43m__init__\u001b[39;49m\u001b[43m(\u001b[49m\n\u001b[1;32m   1111\u001b[0m \u001b[43m        \u001b[49m\u001b[43mname\u001b[49m\u001b[38;5;241;43m=\u001b[39;49m\u001b[43mcheckpoint_config\u001b[49m\u001b[38;5;241;43m.\u001b[39;49m\u001b[43mname\u001b[49m\u001b[43m,\u001b[49m\n\u001b[1;32m   1112\u001b[0m \u001b[43m        \u001b[49m\u001b[43mdata_context\u001b[49m\u001b[38;5;241;43m=\u001b[39;49m\u001b[43mdata_context\u001b[49m\u001b[43m,\u001b[49m\n\u001b[1;32m   1113\u001b[0m \u001b[43m        \u001b[49m\u001b[43mconfig_version\u001b[49m\u001b[38;5;241;43m=\u001b[39;49m\u001b[43mcheckpoint_config\u001b[49m\u001b[38;5;241;43m.\u001b[39;49m\u001b[43mconfig_version\u001b[49m\u001b[43m,\u001b[49m\n\u001b[1;32m   1114\u001b[0m \u001b[43m        \u001b[49m\u001b[43mtemplate_name\u001b[49m\u001b[38;5;241;43m=\u001b[39;49m\u001b[43mcheckpoint_config\u001b[49m\u001b[38;5;241;43m.\u001b[39;49m\u001b[43mtemplate_name\u001b[49m\u001b[43m,\u001b[49m\n\u001b[1;32m   1115\u001b[0m \u001b[43m        \u001b[49m\u001b[43mrun_name_template\u001b[49m\u001b[38;5;241;43m=\u001b[39;49m\u001b[43mcheckpoint_config\u001b[49m\u001b[38;5;241;43m.\u001b[39;49m\u001b[43mrun_name_template\u001b[49m\u001b[43m,\u001b[49m\n\u001b[1;32m   1116\u001b[0m \u001b[43m        \u001b[49m\u001b[43mexpectation_suite_name\u001b[49m\u001b[38;5;241;43m=\u001b[39;49m\u001b[43mcheckpoint_config\u001b[49m\u001b[38;5;241;43m.\u001b[39;49m\u001b[43mexpectation_suite_name\u001b[49m\u001b[43m,\u001b[49m\n\u001b[1;32m   1117\u001b[0m \u001b[43m        \u001b[49m\u001b[43mbatch_request\u001b[49m\u001b[38;5;241;43m=\u001b[39;49m\u001b[43mbatch_request\u001b[49m\u001b[43m,\u001b[49m\n\u001b[1;32m   1118\u001b[0m \u001b[43m        \u001b[49m\u001b[43maction_list\u001b[49m\u001b[38;5;241;43m=\u001b[39;49m\u001b[43mcheckpoint_config\u001b[49m\u001b[38;5;241;43m.\u001b[39;49m\u001b[43maction_list\u001b[49m\u001b[43m,\u001b[49m\n\u001b[1;32m   1119\u001b[0m \u001b[43m        \u001b[49m\u001b[43mevaluation_parameters\u001b[49m\u001b[38;5;241;43m=\u001b[39;49m\u001b[43mcheckpoint_config\u001b[49m\u001b[38;5;241;43m.\u001b[39;49m\u001b[43mevaluation_parameters\u001b[49m\u001b[43m,\u001b[49m\n\u001b[1;32m   1120\u001b[0m \u001b[43m        \u001b[49m\u001b[43mruntime_configuration\u001b[49m\u001b[38;5;241;43m=\u001b[39;49m\u001b[43mcheckpoint_config\u001b[49m\u001b[38;5;241;43m.\u001b[39;49m\u001b[43mruntime_configuration\u001b[49m\u001b[43m,\u001b[49m\n\u001b[1;32m   1121\u001b[0m \u001b[43m        \u001b[49m\u001b[43mvalidations\u001b[49m\u001b[38;5;241;43m=\u001b[39;49m\u001b[43mvalidations\u001b[49m\u001b[43m,\u001b[49m\n\u001b[1;32m   1122\u001b[0m \u001b[43m        \u001b[49m\u001b[43mprofilers\u001b[49m\u001b[38;5;241;43m=\u001b[39;49m\u001b[43mcheckpoint_config\u001b[49m\u001b[38;5;241;43m.\u001b[39;49m\u001b[43mprofilers\u001b[49m\u001b[43m,\u001b[49m\n\u001b[1;32m   1123\u001b[0m \u001b[43m        \u001b[49m\u001b[43mge_cloud_id\u001b[49m\u001b[38;5;241;43m=\u001b[39;49m\u001b[43mcheckpoint_config\u001b[49m\u001b[38;5;241;43m.\u001b[39;49m\u001b[43mge_cloud_id\u001b[49m\u001b[43m,\u001b[49m\n\u001b[1;32m   1124\u001b[0m \u001b[43m        \u001b[49m\u001b[43mexpectation_suite_ge_cloud_id\u001b[49m\u001b[38;5;241;43m=\u001b[39;49m\u001b[43mcheckpoint_config\u001b[49m\u001b[38;5;241;43m.\u001b[39;49m\u001b[43mexpectation_suite_ge_cloud_id\u001b[49m\u001b[43m,\u001b[49m\n\u001b[1;32m   1125\u001b[0m \u001b[43m    \u001b[49m\u001b[43m)\u001b[49m\n",
      "File \u001b[0;32m~/anaconda3/envs/mlops/lib/python3.10/site-packages/great_expectations/checkpoint/checkpoint.py:565\u001b[0m, in \u001b[0;36mCheckpoint.__init__\u001b[0;34m(self, name, data_context, config_version, template_name, run_name_template, expectation_suite_name, batch_request, action_list, evaluation_parameters, runtime_configuration, validations, profilers, validation_operator_name, batches, ge_cloud_id, expectation_suite_ge_cloud_id, default_validation_id)\u001b[0m\n\u001b[1;32m    558\u001b[0m             \u001b[38;5;28;01mraise\u001b[39;00m \u001b[38;5;167;01mValueError\u001b[39;00m(\n\u001b[1;32m    559\u001b[0m                 \u001b[38;5;124mf\u001b[39m\u001b[38;5;124m\"\"\"\u001b[39m\u001b[38;5;124mError: batch_data found in batch_request -- only primitive types are allowed as Checkpoint \u001b[39m\u001b[38;5;130;01m\\\u001b[39;00m\n\u001b[1;32m    560\u001b[0m \u001b[38;5;124mconstructor arguments.\u001b[39m\n\u001b[1;32m    561\u001b[0m \u001b[38;5;124m\"\"\"\u001b[39m\n\u001b[1;32m    562\u001b[0m             )\n\u001b[1;32m    564\u001b[0m         \u001b[38;5;28;01mif\u001b[39;00m batch_request_in_validations_contains_batch_data(validations\u001b[38;5;241m=\u001b[39mvalidations):\n\u001b[0;32m--> 565\u001b[0m             \u001b[38;5;28;01mraise\u001b[39;00m \u001b[38;5;167;01mValueError\u001b[39;00m(\n\u001b[1;32m    566\u001b[0m                 \u001b[38;5;124mf\u001b[39m\u001b[38;5;124m\"\"\"\u001b[39m\u001b[38;5;124mError: batch_data found in batch_request -- only primitive types are allowed as Checkpoint \u001b[39m\u001b[38;5;130;01m\\\u001b[39;00m\n\u001b[1;32m    567\u001b[0m \u001b[38;5;124mconstructor arguments.\u001b[39m\n\u001b[1;32m    568\u001b[0m \u001b[38;5;124m\"\"\"\u001b[39m\n\u001b[1;32m    569\u001b[0m             )\n\u001b[1;32m    571\u001b[0m         checkpoint_config: CheckpointConfig \u001b[38;5;241m=\u001b[39m CheckpointConfig(\n\u001b[1;32m    572\u001b[0m             name\u001b[38;5;241m=\u001b[39mname,\n\u001b[1;32m    573\u001b[0m             config_version\u001b[38;5;241m=\u001b[39mconfig_version,\n\u001b[0;32m   (...)\u001b[0m\n\u001b[1;32m    587\u001b[0m             default_validation_id\u001b[38;5;241m=\u001b[39mdefault_validation_id,\n\u001b[1;32m    588\u001b[0m         )\n\u001b[1;32m    589\u001b[0m         \u001b[38;5;28msuper\u001b[39m()\u001b[38;5;241m.\u001b[39m\u001b[38;5;21m__init__\u001b[39m(\n\u001b[1;32m    590\u001b[0m             checkpoint_config\u001b[38;5;241m=\u001b[39mcheckpoint_config,\n\u001b[1;32m    591\u001b[0m             data_context\u001b[38;5;241m=\u001b[39mdata_context,\n\u001b[1;32m    592\u001b[0m         )\n",
      "\u001b[0;31mValueError\u001b[0m: Error: batch_data found in batch_request -- only primitive types are allowed as Checkpoint constructor arguments.\n"
     ]
    }
   ],
   "source": [
    "print(validator.get_expectation_suite(discard_failed_expectations=False))\n",
    "validator.save_expectation_suite(discard_failed_expectations=False)\n",
    "\n",
    "checkpoint_config = {\n",
    "    \"class_name\": \"SimpleCheckpoint\",\n",
    "    \"validations\": [\n",
    "        {\n",
    "            \"batch_request\": batch_request,\n",
    "            \"expectation_suite_name\": expectation_suite_name\n",
    "        }\n",
    "    ]\n",
    "}\n",
    "checkpoint = SimpleCheckpoint(\n",
    "    f\"{validator.active_batch_definition.data_asset_name}_{expectation_suite_name}\",\n",
    "    context,\n",
    "    **checkpoint_config\n",
    ")\n",
    "checkpoint_result = checkpoint.run()\n",
    "\n",
    "context.build_data_docs()\n",
    "\n",
    "validation_result_identifier = checkpoint_result.list_validation_result_identifiers()[0]\n",
    "context.open_data_docs(resource_identifier=validation_result_identifier)"
   ]
  },
  {
   "cell_type": "markdown",
   "id": "b7d11551",
   "metadata": {},
   "source": [
    "## Next steps\n",
    "After you review this initial Expectation Suite in Data Docs you\n",
    "should edit this suite to make finer grained adjustments to the expectations.\n",
    "This can be done by running `great_expectations suite edit demo_profiler`."
   ]
  }
 ],
 "metadata": {
  "kernelspec": {
   "display_name": "Python 3 (ipykernel)",
   "language": "python",
   "name": "python3"
  },
  "language_info": {
   "codemirror_mode": {
    "name": "ipython",
    "version": 3
   },
   "file_extension": ".py",
   "mimetype": "text/x-python",
   "name": "python",
   "nbconvert_exporter": "python",
   "pygments_lexer": "ipython3",
   "version": "3.10.4"
  }
 },
 "nbformat": 4,
 "nbformat_minor": 5
}
