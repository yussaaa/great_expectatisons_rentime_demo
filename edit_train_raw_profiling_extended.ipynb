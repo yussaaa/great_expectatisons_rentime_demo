{
 "cells": [
  {
   "cell_type": "markdown",
   "id": "dffc594c",
   "metadata": {},
   "source": [
    "# Run Expectation Suites Against Checkpoints\n"
   ]
  },
  {
   "cell_type": "code",
   "execution_count": 1,
   "id": "e7db4681",
   "metadata": {},
   "outputs": [],
   "source": [
    "from great_expectations.data_context.data_context import DataContext\n",
    "import pandas as pd\n"
   ]
  },
  {
   "cell_type": "code",
   "execution_count": 2,
   "id": "3e1f0bd7",
   "metadata": {},
   "outputs": [],
   "source": [
    "context = DataContext(\n",
    "    context_root_dir='./great_expectations'\n",
    ")"
   ]
  },
  {
   "cell_type": "code",
   "execution_count": 3,
   "id": "fb16d198",
   "metadata": {},
   "outputs": [
    {
     "data": {
      "text/plain": [
       "[ExpectationSuiteIdentifier::demo_profiler]"
      ]
     },
     "execution_count": 3,
     "metadata": {},
     "output_type": "execute_result"
    }
   ],
   "source": [
    "context.list_expectation_suites()"
   ]
  },
  {
   "cell_type": "code",
   "execution_count": 4,
   "id": "a2c4b5ed",
   "metadata": {},
   "outputs": [
    {
     "data": {
      "text/plain": [
       "['demo_checkpoint']"
      ]
     },
     "execution_count": 4,
     "metadata": {},
     "output_type": "execute_result"
    }
   ],
   "source": [
    "context.list_checkpoints()"
   ]
  },
  {
   "cell_type": "markdown",
   "id": "39e2df1e",
   "metadata": {},
   "source": [
    "### Validate over all months\n",
    "\n",
    "Each time the datadocs show an error, run `great-expectations suite edit [my_suite]`\n",
    "to edit the suite to fix the error. Continue in such a way through all months.\n"
   ]
  },
  {
   "cell_type": "markdown",
   "id": "f32a3fb2",
   "metadata": {},
   "source": []
  },
  {
   "cell_type": "code",
   "execution_count": 9,
   "id": "4739480f",
   "metadata": {},
   "outputs": [],
   "source": [
    "# ./data/2020_22_liquor_month.parquet/partition_col=2021"
   ]
  },
  {
   "cell_type": "code",
   "execution_count": 5,
   "id": "05930f40",
   "metadata": {},
   "outputs": [
    {
     "name": "stdout",
     "output_type": "stream",
     "text": [
      "##############################\n",
      "check month 01 year 2021\n"
     ]
    },
    {
     "name": "stderr",
     "output_type": "stream",
     "text": [
      "/Users/yusali/anaconda3/envs/mlops/lib/python3.10/site-packages/fastparquet/util.py:20: DeprecationWarning: distutils Version classes are deprecated. Use packaging.version instead.\n",
      "  PANDAS_VERSION = LooseVersion(pd.__version__)\n"
     ]
    },
    {
     "data": {
      "application/vnd.jupyter.widget-view+json": {
       "model_id": "8be2a0bb13db4b72afe5bdf2fcfa850d",
       "version_major": 2,
       "version_minor": 0
      },
      "text/plain": [
       "Calculating Metrics:   0%|          | 0/19 [00:00<?, ?it/s]"
      ]
     },
     "metadata": {},
     "output_type": "display_data"
    },
    {
     "name": "stdout",
     "output_type": "stream",
     "text": [
      "##############################\n",
      "check month 02 year 2021\n"
     ]
    },
    {
     "data": {
      "application/vnd.jupyter.widget-view+json": {
       "model_id": "540432a974394f32a8e89c746c6edf17",
       "version_major": 2,
       "version_minor": 0
      },
      "text/plain": [
       "Calculating Metrics:   0%|          | 0/19 [00:00<?, ?it/s]"
      ]
     },
     "metadata": {},
     "output_type": "display_data"
    },
    {
     "name": "stdout",
     "output_type": "stream",
     "text": [
      "##############################\n",
      "check month 03 year 2021\n"
     ]
    },
    {
     "data": {
      "application/vnd.jupyter.widget-view+json": {
       "model_id": "7f1e456615034eb28f96c767c49f3698",
       "version_major": 2,
       "version_minor": 0
      },
      "text/plain": [
       "Calculating Metrics:   0%|          | 0/19 [00:00<?, ?it/s]"
      ]
     },
     "metadata": {},
     "output_type": "display_data"
    },
    {
     "name": "stdout",
     "output_type": "stream",
     "text": [
      "##############################\n",
      "check month 04 year 2021\n"
     ]
    },
    {
     "data": {
      "application/vnd.jupyter.widget-view+json": {
       "model_id": "d925703436b34dfdbd57f100cb32a4f5",
       "version_major": 2,
       "version_minor": 0
      },
      "text/plain": [
       "Calculating Metrics:   0%|          | 0/19 [00:00<?, ?it/s]"
      ]
     },
     "metadata": {},
     "output_type": "display_data"
    },
    {
     "name": "stdout",
     "output_type": "stream",
     "text": [
      "##############################\n",
      "check month 05 year 2021\n"
     ]
    },
    {
     "data": {
      "application/vnd.jupyter.widget-view+json": {
       "model_id": "0249ad528204457babfcb4c674d03101",
       "version_major": 2,
       "version_minor": 0
      },
      "text/plain": [
       "Calculating Metrics:   0%|          | 0/19 [00:00<?, ?it/s]"
      ]
     },
     "metadata": {},
     "output_type": "display_data"
    },
    {
     "name": "stdout",
     "output_type": "stream",
     "text": [
      "##############################\n",
      "check month 06 year 2021\n"
     ]
    },
    {
     "data": {
      "application/vnd.jupyter.widget-view+json": {
       "model_id": "55d769d069a8456eb824c82e76e243f4",
       "version_major": 2,
       "version_minor": 0
      },
      "text/plain": [
       "Calculating Metrics:   0%|          | 0/19 [00:00<?, ?it/s]"
      ]
     },
     "metadata": {},
     "output_type": "display_data"
    },
    {
     "name": "stdout",
     "output_type": "stream",
     "text": [
      "##############################\n",
      "check month 07 year 2021\n"
     ]
    },
    {
     "data": {
      "application/vnd.jupyter.widget-view+json": {
       "model_id": "a19069259ddf49d5a787d360e420c820",
       "version_major": 2,
       "version_minor": 0
      },
      "text/plain": [
       "Calculating Metrics:   0%|          | 0/19 [00:00<?, ?it/s]"
      ]
     },
     "metadata": {},
     "output_type": "display_data"
    },
    {
     "name": "stdout",
     "output_type": "stream",
     "text": [
      "##############################\n",
      "check month 08 year 2021\n"
     ]
    },
    {
     "data": {
      "application/vnd.jupyter.widget-view+json": {
       "model_id": "5139a6ac777d48c3aa8d361b76129e7d",
       "version_major": 2,
       "version_minor": 0
      },
      "text/plain": [
       "Calculating Metrics:   0%|          | 0/19 [00:00<?, ?it/s]"
      ]
     },
     "metadata": {},
     "output_type": "display_data"
    },
    {
     "name": "stdout",
     "output_type": "stream",
     "text": [
      "##############################\n",
      "check month 09 year 2021\n"
     ]
    },
    {
     "data": {
      "application/vnd.jupyter.widget-view+json": {
       "model_id": "746db16915d44adda6b846678f8b9338",
       "version_major": 2,
       "version_minor": 0
      },
      "text/plain": [
       "Calculating Metrics:   0%|          | 0/19 [00:00<?, ?it/s]"
      ]
     },
     "metadata": {},
     "output_type": "display_data"
    },
    {
     "name": "stdout",
     "output_type": "stream",
     "text": [
      "##############################\n",
      "check month 10 year 2021\n"
     ]
    },
    {
     "data": {
      "application/vnd.jupyter.widget-view+json": {
       "model_id": "d821eba341c14815adf43956c751ada0",
       "version_major": 2,
       "version_minor": 0
      },
      "text/plain": [
       "Calculating Metrics:   0%|          | 0/19 [00:00<?, ?it/s]"
      ]
     },
     "metadata": {},
     "output_type": "display_data"
    },
    {
     "name": "stdout",
     "output_type": "stream",
     "text": [
      "##############################\n",
      "check month 11 year 2021\n"
     ]
    },
    {
     "data": {
      "application/vnd.jupyter.widget-view+json": {
       "model_id": "e21b6a6ce844461eae0b58f7582a93b3",
       "version_major": 2,
       "version_minor": 0
      },
      "text/plain": [
       "Calculating Metrics:   0%|          | 0/19 [00:00<?, ?it/s]"
      ]
     },
     "metadata": {},
     "output_type": "display_data"
    },
    {
     "name": "stdout",
     "output_type": "stream",
     "text": [
      "##############################\n",
      "check month 12 year 2021\n"
     ]
    },
    {
     "data": {
      "application/vnd.jupyter.widget-view+json": {
       "model_id": "6fa286a3ef7c4b1a885583b18822a3b1",
       "version_major": 2,
       "version_minor": 0
      },
      "text/plain": [
       "Calculating Metrics:   0%|          | 0/19 [00:00<?, ?it/s]"
      ]
     },
     "metadata": {},
     "output_type": "display_data"
    }
   ],
   "source": [
    "months = [f\"{i}\".rjust(2, \"0\") for i in range(1, 13)]\n",
    "year = \"2021\"\n",
    "batch_request_list2 = []\n",
    "for month in months:\n",
    "    print(\"#\"*30)\n",
    "    print(f\"check month {month} year {year}\")\n",
    "\n",
    "\n",
    "    df_batches_month = pd.read_parquet(f\"./data/2020_22_liquor_month.parquet/partition_col=2021/{month}\")\n",
    "    df_batches_month = df_batches_month[~df_batches_month[\"Category Name\"].isna()]\n",
    "    df_batches_month = df_batches_month[~df_batches_month[\"Vendor Name\"].isna()]\n",
    "\n",
    "    batch_name = f\"{year}_{month}\"\n",
    "    checkpoint_result = context.run_checkpoint(\n",
    "        checkpoint_name=f\"demo_checkpoint\",\n",
    "        batch_request={\n",
    "            \"runtime_parameters\": {\"batch_data\": df_batches_month},\n",
    "            \"batch_identifiers\": {\n",
    "                \"runtime_batch_identifier_name\": batch_name\n",
    "            },\n",
    "        },\n",
    "        run_name = f\"run_{batch_name}\"\n",
    "    )\n",
    "    # if checkpoint_result['success'] == False:\n",
    "    #     break\n",
    "    # break"
   ]
  },
  {
   "cell_type": "code",
   "execution_count": 7,
   "id": "9dd62809",
   "metadata": {},
   "outputs": [
    {
     "data": {
      "text/plain": [
       "{'local_site': 'file:///Users/yusali/Library/CloudStorage/OneDrive-UniversityofToronto/Projects_OneD_UT/mlops/cpd_mlops_benchmarks/ge_demo/great_expectations/uncommitted/data_docs/local_site/index.html'}"
      ]
     },
     "execution_count": 7,
     "metadata": {},
     "output_type": "execute_result"
    }
   ],
   "source": [
    "context.build_data_docs(site_names=\"local_site\",\n",
    "                        resource_identifiers=[val['expectation_suite_name'] for val in context.get_checkpoint(\"demo_checkpoint\").validations],\n",
    "                       )"
   ]
  },
  {
   "cell_type": "code",
   "execution_count": null,
   "id": "da29ba97",
   "metadata": {},
   "outputs": [],
   "source": []
  }
 ],
 "metadata": {
  "kernelspec": {
   "display_name": "Python 3.10.4 ('mlops')",
   "language": "python",
   "name": "python3"
  },
  "language_info": {
   "codemirror_mode": {
    "name": "ipython",
    "version": 3
   },
   "file_extension": ".py",
   "mimetype": "text/x-python",
   "name": "python",
   "nbconvert_exporter": "python",
   "pygments_lexer": "ipython3",
   "version": "3.10.4"
  },
  "vscode": {
   "interpreter": {
    "hash": "3604c711e2fabb0076656fee3e56ce4637394fcc327f6423298715097c413961"
   }
  }
 },
 "nbformat": 4,
 "nbformat_minor": 5
}
